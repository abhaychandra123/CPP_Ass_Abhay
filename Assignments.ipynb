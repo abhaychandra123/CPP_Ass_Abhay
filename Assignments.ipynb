{
 "cells": [
  {
   "cell_type": "markdown",
   "metadata": {},
   "source": [
    "# **Basic Python**"
   ]
  },
  {
   "cell_type": "markdown",
   "metadata": {},
   "source": [
    "## 1.a \n",
    "Give a function F that takes a single argument n. This function should print a sequence of n strings as described in the examples below: <br>\n",
    "Ex: **n = 3**\n",
    "\n",
    "--A--<br>\n",
    "-BAB-<br>\n",
    "CBABC<br>\n",
    "\n",
    "**n = 4**\n",
    "\n",
    "---A---<br>\n",
    "--BAB--<br>\n",
    "-CBABC-<br>\n",
    "DCBABCD"
   ]
  },
  {
   "cell_type": "code",
   "execution_count": null,
   "metadata": {},
   "outputs": [],
   "source": [
    "def F(n):\n",
    "    for i in range(n):\n",
    "        l=''\n",
    "        l+='-'*(n-i-1)\n",
    "        for j in range(i+1,0,-1):\n",
    "            l+=chr(65+j-1)\n",
    "        for j in range(1,i+1):\n",
    "            l+=chr(65+j)\n",
    "        l+='-'*(n-i-1)\n",
    "        print(l)\n",
    "    pass\n",
    "\n",
    "# Tests\n",
    "F(4)\n",
    "F(10)\n",
    "F(6)"
   ]
  },
  {
   "cell_type": "markdown",
   "metadata": {},
   "source": [
    "## 1.b\n",
    "Make a function F that takes only one argument, a dictionary(dict) d.\n",
    "The keys of d are integers and the values of d are a tuple of type (x (int), y (int)).\n",
    "You must print out the dict in the format \"-key-, -x-, -y-\" with each entry in a new line. Print it for each of the three sorted orders, by key values ascending, by x values descending, by y values ascending."
   ]
  },
  {
   "cell_type": "code",
   "execution_count": null,
   "metadata": {},
   "outputs": [],
   "source": [
    "def F(d : dict):\n",
    "    #sort by key asc\n",
    "    print(\"Sorted by keys, asc\")\n",
    "    kl=list(d.keys())\n",
    "    kl.sort()\n",
    "    for i in kl:\n",
    "        print(f\"-{i}-, -{d[i][0]}-, -{d[i][1]}-\")\n",
    "    #sort by x desc\n",
    "    print(\"Sorted by x, desc\")\n",
    "    vl=list(d.values())\n",
    "    vlx=[i[0] for i in vl]\n",
    "    vlx.sort(reverse=True)\n",
    "    dx=d.copy()\n",
    "    for i in vlx:\n",
    "        for j in dx.copy():\n",
    "            if dx[j][0]==i:\n",
    "                print(f\"-{j}-, -{dx[j][0]}-, -{dx[j][1]}-\")\n",
    "                dx.pop(j)\n",
    "    \n",
    "    \n",
    "    #sort by y asc\n",
    "    print(\"Sorted by y, asc\")\n",
    "    vly=[i[1] for i in vl]\n",
    "    vly.sort()\n",
    "    dy=d.copy()\n",
    "    for i in vly:\n",
    "        for j in dy.copy():\n",
    "            if dy[j][1]==i:\n",
    "                print(f\"-{j}-, -{dy[j][0]}-, -{dy[j][1]}-\")\n",
    "                dy.pop(j)\n",
    "\n",
    "    \n",
    "    pass\n",
    "\n",
    "# Tests\n",
    "F({1 : (1, 2), 2 : (-1, 4), 5 : (-4, 3), 4 : (2, 3)})\n",
    "F({-8 : (4, 2), 6 : (-3, 4), 7 : (2, 1), 5 : (9, -10)})"
   ]
  },
  {
   "cell_type": "markdown",
   "metadata": {},
   "source": [
    "## 2 Working with Student Records\n",
    "\n",
    "Use the data in **student_records.csv** to complete the given tasks. Do not include any external libraries. Use a Python dictionary if required.\n",
    "\n",
    "### Reference\n",
    "- [Python Dictionaries](https://www.w3schools.com/python/python_dictionaries.asp)\n"
   ]
  },
  {
   "cell_type": "markdown",
   "metadata": {},
   "source": [
    "#### 2.a: open the student_records.csv file and print out the first 10 rows"
   ]
  },
  {
   "cell_type": "code",
   "execution_count": null,
   "metadata": {},
   "outputs": [],
   "source": [
    "\n",
    "with open(\"student_records.csv\",\"r\") as f:\n",
    "    for i in range (10):\n",
    "        l=f.readline()\n",
    "        print(l)\n",
    "    pass \n"
   ]
  },
  {
   "cell_type": "markdown",
   "metadata": {},
   "source": [
    "#### 2.b: Print out the total credits and calculte CPI of each student. \n",
    "CPI is the weighted average of core courses, and electives (weights being the letter grades converted to number AP,AA=10, AB=9, BB=8, BC=7, CC=6)"
   ]
  },
  {
   "cell_type": "code",
   "execution_count": null,
   "metadata": {},
   "outputs": [],
   "source": [
    "class Student:\n",
    "    def __init__(self,l):\n",
    "        self.courses={'core':[],'elective':[],'honours':[],'alc':[],'minor':[]}\n",
    "        self.courses_credits={'core':0,'elective':0,'honours':0,'alc':0,'minor':0}\n",
    "        self.weighted_sum={'core':0,'elective':0,'honours':0,'alc':0,'minor':0}\n",
    "        grade={'AP\\n':10,'AA\\n':10,'AB\\n':9,'BB\\n':8,'BC\\n':7,'CC\\n':6}\n",
    "        \n",
    "        for i in l:\n",
    "            i[0]=int(i[0])\n",
    "            if i[2]=='core':\n",
    "                self.courses['core'].append(i)\n",
    "                self.courses_credits['core']+=i[0]\n",
    "                self.weighted_sum['core']+=i[0]*grade[i[3]]\n",
    "            elif 'elective' in i[2]:\n",
    "                self.courses['elective'].append(i)\n",
    "                self.courses_credits['elective']+=i[0]\n",
    "                self.weighted_sum['elective']+=i[0]*grade[i[3]]\n",
    "                \n",
    "            elif i[2]=='honours':\n",
    "                self.courses['honours'].append(i)\n",
    "                self.courses_credits['honours']+=i[0]\n",
    "                self.weighted_sum['honours']+=i[0]*grade[i[3]]\n",
    "            elif i[2]=='alc':\n",
    "                self.courses['alc'].append(i)\n",
    "                self.courses_credits['alc']+=i[0]\n",
    "                self.weighted_sum['alc']+=i[0]*grade[i[3]] \n",
    "            elif i[2]=='minor':\n",
    "                self.courses['minor'].append(i)\n",
    "                self.courses_credits['minor']+=i[0]\n",
    "                self.weighted_sum['minor']+=i[0]*grade[i[3]] \n",
    "\n",
    "        self.total_creds=self.courses_credits['core']+self.courses_credits['elective']+self.courses_credits['honours']+self.courses_credits['alc']+self.courses_credits['minor']\n",
    "        self.cpi=self.calc_cpi()  \n",
    "    \n",
    "    def calc_cpi(self):\n",
    "        cpi=(self.weighted_sum['core']+self.weighted_sum['elective'])/(self.courses_credits['core']+self.courses_credits['elective'])\n",
    "        return cpi\n",
    "\n",
    "\n",
    "    def __str__(self):\n",
    "        return f\"Courses: {self.courses}\"\n",
    "\n",
    "    pass\n",
    "\n",
    "\n",
    "with open(\"student_records.csv\",\"r\") as f:\n",
    "    data=f.readlines()\n",
    "    for i in range(len(data)):\n",
    "        data[i]=data[i].split(\",\")\n",
    "\n",
    "uni_roll={}\n",
    "\n",
    "for i in data[1:]:\n",
    "    if i[0] not in list(uni_roll.keys()):\n",
    "        uni_roll[i[0]]=[]\n",
    "        uni_roll[i[0]].append(i[2:])\n",
    "    else:\n",
    "        uni_roll[i[0]].append(i[2:])\n",
    "\n",
    "print(len(list(uni_roll.keys()))) #number of students\n",
    "\n",
    "for i in list(uni_roll.keys()):\n",
    "    uni_roll[i]=Student(uni_roll[i])\n",
    "\n",
    "for i in list(uni_roll.keys()):\n",
    "    print(f\"Roll No: {i} has CPI: {'%.3f'%(uni_roll[i].cpi)} and has taken total {uni_roll[i].total_creds} credits.\") \n",
    "\n"
   ]
  },
  {
   "cell_type": "markdown",
   "metadata": {},
   "source": [
    "#### 2.c: Print out the roll numbers of all students who meet the graduation requirements \n",
    "Atleast 20 credist of core course, 15 credits of department elective, 10 credits of flexible elective and 5 credits of hasmed electives"
   ]
  },
  {
   "cell_type": "code",
   "execution_count": null,
   "metadata": {},
   "outputs": [],
   "source": [
    "for i in list(uni_roll.keys()):\n",
    "    if uni_roll[i].courses_credits['core']>=20 and uni_roll[i].courses_credits['elective']>=20:\n",
    "        print(f\"Roll No: {i} has completed the core and elective requirements.\")"
   ]
  },
  {
   "cell_type": "markdown",
   "metadata": {},
   "source": [
    "#### 2.d: Print out the roll numbers of all students who completed a minor \n",
    "Atleast 10 credits with minor tag in a specific department"
   ]
  },
  {
   "cell_type": "code",
   "execution_count": null,
   "metadata": {},
   "outputs": [],
   "source": [
    "#TODO"
   ]
  },
  {
   "cell_type": "markdown",
   "metadata": {},
   "source": [
    "#### 2.e: Print out the roll numbers of all students who completed a honours\n",
    "Atleast 10 credits with honours tag and 20 core credits"
   ]
  },
  {
   "cell_type": "code",
   "execution_count": null,
   "metadata": {},
   "outputs": [],
   "source": [
    "#TODO"
   ]
  },
  {
   "cell_type": "markdown",
   "metadata": {},
   "source": [
    "# **SciPy** "
   ]
  },
  {
   "cell_type": "markdown",
   "metadata": {},
   "source": [
    "## Part A\n",
    "Minimize the function $f(x, y) = 2(x - y - 3)^2 + 4(x + 2y + 1)^4$.<br>\n",
    "With the constraints : $ x - y \\ge -3, (x + 2)^2 + (y + 1)^2 \\le 5$ <br>\n",
    "Using scipy.optimize.minimize with constraints. (Hint: Look at the examples in the official documentation)"
   ]
  },
  {
   "cell_type": "code",
   "execution_count": null,
   "metadata": {},
   "outputs": [],
   "source": [
    "#TODO"
   ]
  },
  {
   "cell_type": "markdown",
   "metadata": {},
   "source": [
    "# Part B\n",
    "Evaluate the line integral of the function $f(x, y) = x^2 + y^4$ along the circle $ x^2 + y^2 = 3 $ anticlockwise (scalar integral, not vector). You must use scipy for integration but you may use parameterization"
   ]
  },
  {
   "cell_type": "code",
   "execution_count": null,
   "metadata": {},
   "outputs": [],
   "source": [
    "#TODO"
   ]
  },
  {
   "cell_type": "markdown",
   "metadata": {},
   "source": [
    "# **Numpy**"
   ]
  },
  {
   "cell_type": "markdown",
   "metadata": {},
   "source": [
    "### Read Lisan_Al_Gaib.pdf for problem description and complete the following functions"
   ]
  },
  {
   "cell_type": "code",
   "execution_count": null,
   "metadata": {},
   "outputs": [],
   "source": [
    "import time # to time the execution\n",
    "import numpy as np\n",
    "import matplotlib.pyplot as plt"
   ]
  },
  {
   "cell_type": "code",
   "execution_count": null,
   "metadata": {},
   "outputs": [],
   "source": [
    "### TODO 1\n",
    "### Load data from data_path\n",
    "### Check the input file spice_locations.txt to understand the Data Format\n",
    "### Return : np array of size Nx2\n",
    "def load_data(data_path):\n",
    "    return None"
   ]
  },
  {
   "cell_type": "code",
   "execution_count": null,
   "metadata": {},
   "outputs": [],
   "source": [
    "### TODO 2.1\n",
    "### If init_centers is None, initialize the centers by selecting K data points at random without replacement\n",
    "### Else, use the centers provided in init_centers\n",
    "### Return : np array of size Kx2\n",
    "def initialise_centers(data, K, init_centers=None):\n",
    "    return None"
   ]
  },
  {
   "cell_type": "code",
   "execution_count": null,
   "metadata": {},
   "outputs": [],
   "source": [
    "### TODO 2.2\n",
    "### Initialize the labels to all ones to size (N,) where N is the number of data points\n",
    "### Return : np array of size N\n",
    "def initialise_labels(data):\n",
    "    return None"
   ]
  },
  {
   "cell_type": "code",
   "execution_count": null,
   "metadata": {},
   "outputs": [],
   "source": [
    "### TODO 3.1 : E step\n",
    "### For Each data point, find the distance to each center\n",
    "### Return : np array of size NxK\n",
    "def calculate_distances(data, centers):\n",
    "    return None"
   ]
  },
  {
   "cell_type": "code",
   "execution_count": null,
   "metadata": {},
   "outputs": [],
   "source": [
    "### TODO 3.2 : E step\n",
    "### For Each data point, assign the label of the nearest center\n",
    "### Return : np array of size N\n",
    "def update_labels(distances):\n",
    "    return None"
   ]
  },
  {
   "cell_type": "code",
   "execution_count": null,
   "metadata": {},
   "outputs": [],
   "source": [
    "### TODO 4 : M step\n",
    "### Update the centers to the mean of the data points assigned to it\n",
    "### Return : np array of size Kx2\n",
    "def update_centers(data, labels, K):\n",
    "    return None\n"
   ]
  },
  {
   "cell_type": "code",
   "execution_count": null,
   "metadata": {},
   "outputs": [],
   "source": [
    "### TODO 6 : Check convergence\n",
    "### Check if the labels have changed from the previous iteration\n",
    "### Return : True / False\n",
    "def check_termination(labels1, labels2):\n",
    "    return None"
   ]
  },
  {
   "cell_type": "code",
   "execution_count": null,
   "metadata": {},
   "outputs": [],
   "source": [
    "### DON'T CHANGE ANYTHING IN THE FOLLOWING FUNCTION\n",
    "def kmeans(data_path:str, K:int, init_centers):\n",
    "    '''\n",
    "    Input :\n",
    "        data (type str): path to the file containing the data\n",
    "        K (type int): number of clusters\n",
    "        init_centers (type numpy.ndarray): initial centers. shape = (K, 2) or None\n",
    "    Output :\n",
    "        centers (type numpy.ndarray): final centers. shape = (K, 2)\n",
    "        labels (type numpy.ndarray): label of each data point. shape = (N,)\n",
    "        time (type float): time taken by the algorithm to converge in seconds\n",
    "    N is the number of data points each of shape (2,)\n",
    "    '''\n",
    "    data = load_data(data_path)    \n",
    "    centers = initialise_centers(data, K, init_centers)\n",
    "    labels = initialise_labels(data)\n",
    "\n",
    "    start_time = time.time() # Time stamp \n",
    "\n",
    "    while True:\n",
    "        distances = calculate_distances(data, centers)\n",
    "        labels_new = update_labels(distances)\n",
    "        centers = update_centers(data, labels_new, K)\n",
    "        if check_termination(labels, labels_new): break\n",
    "        else: labels = labels_new\n",
    " \n",
    "    end_time = time.time() # Time stamp after the algorithm ends\n",
    "    return centers, labels, end_time - start_time "
   ]
  },
  {
   "cell_type": "code",
   "execution_count": null,
   "metadata": {},
   "outputs": [],
   "source": [
    "### TODO 7\n",
    "def visualise(data_path, labels, centers):\n",
    "    data = load_data(data_path)\n",
    "\n",
    "    # Scatter plot of the data points\n",
    "    plt.scatter(data[:, 0], data[:, 1], c=labels, s=50, cmap='viridis')\n",
    "    plt.scatter(centers[:, 0], centers[:, 1], c='black', s=200, alpha=0.5)\n",
    "\n",
    "    ### Set title as 'K-means clustering'\n",
    "\n",
    "    ### Set xlabel as 'Longitude'\n",
    "\n",
    "    ### Set ylabel as 'Latitude'\n",
    "\n",
    "    ### Save the plot as 'kmeans.png'\n",
    "\n",
    "\n",
    "    ## DO NOT CHANGE THE FOLLOWING LINE\n",
    "    return plt"
   ]
  },
  {
   "cell_type": "code",
   "execution_count": null,
   "metadata": {},
   "outputs": [],
   "source": [
    "### After you have completed the above functions, run the following code to generate the plot\n",
    "data_path = 'spice_locations.txt'\n",
    "K, init_centers = 2, None\n",
    "centers, labels, time_taken = kmeans(data_path, K, init_centers)\n",
    "print('Time taken for the algorithm to converge:', time_taken)\n",
    "visualise(data_path, labels, centers)"
   ]
  }
 ],
 "metadata": {
  "kernelspec": {
   "display_name": "Python 3",
   "language": "python",
   "name": "python3"
  },
  "language_info": {
   "codemirror_mode": {
    "name": "ipython",
    "version": 3
   },
   "file_extension": ".py",
   "mimetype": "text/x-python",
   "name": "python",
   "nbconvert_exporter": "python",
   "pygments_lexer": "ipython3",
   "version": "3.10.12"
  }
 },
 "nbformat": 4,
 "nbformat_minor": 2
}
