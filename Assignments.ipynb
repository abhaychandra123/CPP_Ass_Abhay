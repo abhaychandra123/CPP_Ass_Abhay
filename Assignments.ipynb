{
 "cells": [
  {
   "cell_type": "markdown",
   "metadata": {},
   "source": [
    "# **Basic Python**"
   ]
  },
  {
   "cell_type": "markdown",
   "metadata": {},
   "source": [
    "## 1.a \n",
    "Give a function F that takes a single argument n. This function should print a sequence of n strings as described in the examples below: <br>\n",
    "Ex: **n = 3**\n",
    "\n",
    "--A--<br>\n",
    "-BAB-<br>\n",
    "CBABC<br>\n",
    "\n",
    "**n = 4**\n",
    "\n",
    "---A---<br>\n",
    "--BAB--<br>\n",
    "-CBABC-<br>\n",
    "DCBABCD"
   ]
  },
  {
   "cell_type": "code",
   "execution_count": 2,
   "metadata": {},
   "outputs": [
    {
     "name": "stdout",
     "output_type": "stream",
     "text": [
      "---A---\n",
      "--BAB--\n",
      "-CBABC-\n",
      "DCBABCD\n",
      "---------A---------\n",
      "--------BAB--------\n",
      "-------CBABC-------\n",
      "------DCBABCD------\n",
      "-----EDCBABCDE-----\n",
      "----FEDCBABCDEF----\n",
      "---GFEDCBABCDEFG---\n",
      "--HGFEDCBABCDEFGH--\n",
      "-IHGFEDCBABCDEFGHI-\n",
      "JIHGFEDCBABCDEFGHIJ\n",
      "-----A-----\n",
      "----BAB----\n",
      "---CBABC---\n",
      "--DCBABCD--\n",
      "-EDCBABCDE-\n",
      "FEDCBABCDEF\n"
     ]
    }
   ],
   "source": [
    "def F(n):\n",
    "    for i in range(n):\n",
    "        l=''\n",
    "        l+='-'*(n-i-1)\n",
    "        for j in range(i+1,0,-1):\n",
    "            l+=chr(65+j-1)\n",
    "        for j in range(1,i+1):\n",
    "            l+=chr(65+j)\n",
    "        l+='-'*(n-i-1)\n",
    "        print(l)\n",
    "    pass\n",
    "\n",
    "# Tests\n",
    "F(4)\n",
    "F(10)\n",
    "F(6)"
   ]
  },
  {
   "cell_type": "markdown",
   "metadata": {},
   "source": [
    "## 1.b\n",
    "Make a function F that takes only one argument, a dictionary(dict) d.\n",
    "The keys of d are integers and the values of d are a tuple of type (x (int), y (int)).\n",
    "You must print out the dict in the format \"-key-, -x-, -y-\" with each entry in a new line. Print it for each of the three sorted orders, by key values ascending, by x values descending, by y values ascending."
   ]
  },
  {
   "cell_type": "code",
   "execution_count": 3,
   "metadata": {},
   "outputs": [
    {
     "name": "stdout",
     "output_type": "stream",
     "text": [
      "Sorted by keys, asc\n",
      "-1-, -1-, -2-\n",
      "-2-, --1-, -4-\n",
      "-4-, -2-, -3-\n",
      "-5-, --4-, -3-\n",
      "Sorted by x, desc\n",
      "-4-, -2-, -3-\n",
      "-1-, -1-, -2-\n",
      "-2-, --1-, -4-\n",
      "-5-, --4-, -3-\n",
      "Sorted by y, asc\n",
      "-1-, -1-, -2-\n",
      "-5-, --4-, -3-\n",
      "-4-, -2-, -3-\n",
      "-2-, --1-, -4-\n",
      "Sorted by keys, asc\n",
      "--8-, -4-, -2-\n",
      "-5-, -9-, --10-\n",
      "-6-, --3-, -4-\n",
      "-7-, -2-, -1-\n",
      "Sorted by x, desc\n",
      "-5-, -9-, --10-\n",
      "--8-, -4-, -2-\n",
      "-7-, -2-, -1-\n",
      "-6-, --3-, -4-\n",
      "Sorted by y, asc\n",
      "-5-, -9-, --10-\n",
      "-7-, -2-, -1-\n",
      "--8-, -4-, -2-\n",
      "-6-, --3-, -4-\n"
     ]
    }
   ],
   "source": [
    "def F(d : dict):\n",
    "    #sort by key asc\n",
    "    print(\"Sorted by keys, asc\")\n",
    "    kl=list(d.keys())\n",
    "    kl.sort()\n",
    "    for i in kl:\n",
    "        print(f\"-{i}-, -{d[i][0]}-, -{d[i][1]}-\")\n",
    "    #sort by x desc\n",
    "    print(\"Sorted by x, desc\")\n",
    "    vl=list(d.values())\n",
    "    vlx=[i[0] for i in vl]\n",
    "    vlx.sort(reverse=True)\n",
    "    dx=d.copy()\n",
    "    for i in vlx:\n",
    "        for j in dx.copy():\n",
    "            if dx[j][0]==i:\n",
    "                print(f\"-{j}-, -{dx[j][0]}-, -{dx[j][1]}-\")\n",
    "                dx.pop(j)\n",
    "    \n",
    "    \n",
    "    #sort by y asc\n",
    "    print(\"Sorted by y, asc\")\n",
    "    vly=[i[1] for i in vl]\n",
    "    vly.sort()\n",
    "    dy=d.copy()\n",
    "    for i in vly:\n",
    "        for j in dy.copy():\n",
    "            if dy[j][1]==i:\n",
    "                print(f\"-{j}-, -{dy[j][0]}-, -{dy[j][1]}-\")\n",
    "                dy.pop(j)\n",
    "\n",
    "    \n",
    "    pass\n",
    "\n",
    "# Tests\n",
    "F({1 : (1, 2), 2 : (-1, 4), 5 : (-4, 3), 4 : (2, 3)})\n",
    "F({-8 : (4, 2), 6 : (-3, 4), 7 : (2, 1), 5 : (9, -10)})"
   ]
  },
  {
   "cell_type": "markdown",
   "metadata": {},
   "source": [
    "## 2 Working with Student Records\n",
    "\n",
    "Use the data in **student_records.csv** to complete the given tasks. Do not include any external libraries. Use a Python dictionary if required.\n",
    "\n",
    "### Reference\n",
    "- [Python Dictionaries](https://www.w3schools.com/python/python_dictionaries.asp)\n"
   ]
  },
  {
   "cell_type": "markdown",
   "metadata": {},
   "source": [
    "#### 2.a: open the student_records.csv file and print out the first 10 rows"
   ]
  },
  {
   "cell_type": "code",
   "execution_count": 4,
   "metadata": {},
   "outputs": [
    {
     "name": "stdout",
     "output_type": "stream",
     "text": [
      "roll_number,department,credit,course_name,course_type,grade\n",
      "\n",
      "588946,MA,3,EC250,hasmed_elective,AB\n",
      "\n",
      "145372,EP,4,EP407,hasmed_elective,CC\n",
      "\n",
      "834515,MA,8,EP885,hasmed_elective,BB\n",
      "\n",
      "344265,CSE,6,CSE699,honours,AB\n",
      "\n",
      "358405,MA,3,EE460,minor,AP\n",
      "\n",
      "781075,CE,8,CE540,honours,CC\n",
      "\n",
      "180828,CSE,6,CE880,minor,AB\n",
      "\n",
      "981238,MM,4,CSE226,minor,AB\n",
      "\n",
      "836881,MM,8,MM530,core,AA\n",
      "\n"
     ]
    }
   ],
   "source": [
    "\n",
    "with open(\"student_records.csv\",\"r\") as f:\n",
    "    for i in range (10):\n",
    "        l=f.readline()\n",
    "        print(l)\n",
    "    pass \n"
   ]
  },
  {
   "cell_type": "markdown",
   "metadata": {},
   "source": [
    "#### 2.b: Print out the total credits and calculte CPI of each student. \n",
    "CPI is the weighted average of core courses, and electives (weights being the letter grades converted to number AP,AA=10, AB=9, BB=8, BC=7, CC=6)"
   ]
  },
  {
   "cell_type": "code",
   "execution_count": 5,
   "metadata": {},
   "outputs": [
    {
     "name": "stdout",
     "output_type": "stream",
     "text": [
      "100\n",
      "Roll No: 588946 has CPI: 8.670 and has taken total 199 credits.\n",
      "Roll No: 145372 has CPI: 7.429 and has taken total 173 credits.\n",
      "Roll No: 834515 has CPI: 8.103 and has taken total 199 credits.\n",
      "Roll No: 344265 has CPI: 8.900 and has taken total 153 credits.\n",
      "Roll No: 358405 has CPI: 8.208 and has taken total 206 credits.\n",
      "Roll No: 781075 has CPI: 8.470 and has taken total 246 credits.\n",
      "Roll No: 180828 has CPI: 7.904 and has taken total 177 credits.\n",
      "Roll No: 981238 has CPI: 8.275 and has taken total 168 credits.\n",
      "Roll No: 836881 has CPI: 7.922 and has taken total 246 credits.\n",
      "Roll No: 310604 has CPI: 8.217 and has taken total 198 credits.\n",
      "Roll No: 847809 has CPI: 8.270 and has taken total 261 credits.\n",
      "Roll No: 773982 has CPI: 7.784 and has taken total 264 credits.\n",
      "Roll No: 500658 has CPI: 8.117 and has taken total 208 credits.\n",
      "Roll No: 810863 has CPI: 8.056 and has taken total 192 credits.\n",
      "Roll No: 124663 has CPI: 8.230 and has taken total 229 credits.\n",
      "Roll No: 364146 has CPI: 8.766 and has taken total 225 credits.\n",
      "Roll No: 871746 has CPI: 7.793 and has taken total 216 credits.\n",
      "Roll No: 270007 has CPI: 7.750 and has taken total 241 credits.\n",
      "Roll No: 597353 has CPI: 8.078 and has taken total 200 credits.\n",
      "Roll No: 986057 has CPI: 7.926 and has taken total 199 credits.\n",
      "Roll No: 718510 has CPI: 8.703 and has taken total 184 credits.\n",
      "Roll No: 836431 has CPI: 7.654 and has taken total 160 credits.\n",
      "Roll No: 379479 has CPI: 8.168 and has taken total 260 credits.\n",
      "Roll No: 582912 has CPI: 9.275 and has taken total 221 credits.\n",
      "Roll No: 788020 has CPI: 8.089 and has taken total 193 credits.\n",
      "Roll No: 613401 has CPI: 8.252 and has taken total 209 credits.\n",
      "Roll No: 144528 has CPI: 8.571 and has taken total 228 credits.\n",
      "Roll No: 485484 has CPI: 8.659 and has taken total 216 credits.\n",
      "Roll No: 680096 has CPI: 8.353 and has taken total 153 credits.\n",
      "Roll No: 199713 has CPI: 7.981 and has taken total 172 credits.\n",
      "Roll No: 851029 has CPI: 8.246 and has taken total 161 credits.\n",
      "Roll No: 845623 has CPI: 8.533 and has taken total 237 credits.\n",
      "Roll No: 150503 has CPI: 8.434 and has taken total 173 credits.\n",
      "Roll No: 214270 has CPI: 7.508 and has taken total 229 credits.\n",
      "Roll No: 517837 has CPI: 8.327 and has taken total 205 credits.\n",
      "Roll No: 482623 has CPI: 8.520 and has taken total 254 credits.\n",
      "Roll No: 721490 has CPI: 8.353 and has taken total 235 credits.\n",
      "Roll No: 955757 has CPI: 8.031 and has taken total 251 credits.\n",
      "Roll No: 589528 has CPI: 8.542 and has taken total 153 credits.\n",
      "Roll No: 143856 has CPI: 8.492 and has taken total 201 credits.\n",
      "Roll No: 571782 has CPI: 8.215 and has taken total 217 credits.\n",
      "Roll No: 973158 has CPI: 8.378 and has taken total 193 credits.\n",
      "Roll No: 703403 has CPI: 8.519 and has taken total 254 credits.\n",
      "Roll No: 960395 has CPI: 8.828 and has taken total 262 credits.\n",
      "Roll No: 521087 has CPI: 7.598 and has taken total 223 credits.\n",
      "Roll No: 461971 has CPI: 8.391 and has taken total 252 credits.\n",
      "Roll No: 879634 has CPI: 8.725 and has taken total 203 credits.\n",
      "Roll No: 716985 has CPI: 7.741 and has taken total 185 credits.\n",
      "Roll No: 194063 has CPI: 7.951 and has taken total 157 credits.\n",
      "Roll No: 265922 has CPI: 8.245 and has taken total 236 credits.\n",
      "Roll No: 283796 has CPI: 8.877 and has taken total 211 credits.\n",
      "Roll No: 203200 has CPI: 8.645 and has taken total 157 credits.\n",
      "Roll No: 301135 has CPI: 8.323 and has taken total 206 credits.\n",
      "Roll No: 327122 has CPI: 8.237 and has taken total 246 credits.\n",
      "Roll No: 381526 has CPI: 7.942 and has taken total 160 credits.\n",
      "Roll No: 534763 has CPI: 7.842 and has taken total 158 credits.\n",
      "Roll No: 391848 has CPI: 8.351 and has taken total 217 credits.\n",
      "Roll No: 329535 has CPI: 8.260 and has taken total 157 credits.\n",
      "Roll No: 971123 has CPI: 7.550 and has taken total 210 credits.\n",
      "Roll No: 207443 has CPI: 8.189 and has taken total 161 credits.\n",
      "Roll No: 488661 has CPI: 8.451 and has taken total 248 credits.\n",
      "Roll No: 782129 has CPI: 8.619 and has taken total 184 credits.\n",
      "Roll No: 928288 has CPI: 8.850 and has taken total 191 credits.\n",
      "Roll No: 581858 has CPI: 7.815 and has taken total 216 credits.\n",
      "Roll No: 733782 has CPI: 8.636 and has taken total 169 credits.\n",
      "Roll No: 282482 has CPI: 7.877 and has taken total 228 credits.\n",
      "Roll No: 572815 has CPI: 8.587 and has taken total 212 credits.\n",
      "Roll No: 608952 has CPI: 8.314 and has taken total 251 credits.\n",
      "Roll No: 628849 has CPI: 9.115 and has taken total 183 credits.\n",
      "Roll No: 630568 has CPI: 8.421 and has taken total 217 credits.\n",
      "Roll No: 388969 has CPI: 8.400 and has taken total 229 credits.\n",
      "Roll No: 159438 has CPI: 8.433 and has taken total 176 credits.\n",
      "Roll No: 478606 has CPI: 8.689 and has taken total 244 credits.\n",
      "Roll No: 995208 has CPI: 7.591 and has taken total 157 credits.\n",
      "Roll No: 841365 has CPI: 8.018 and has taken total 177 credits.\n",
      "Roll No: 870642 has CPI: 8.167 and has taken total 161 credits.\n",
      "Roll No: 970791 has CPI: 7.942 and has taken total 220 credits.\n",
      "Roll No: 143142 has CPI: 8.563 and has taken total 234 credits.\n",
      "Roll No: 998293 has CPI: 8.560 and has taken total 207 credits.\n",
      "Roll No: 907454 has CPI: 8.030 and has taken total 245 credits.\n",
      "Roll No: 681499 has CPI: 8.250 and has taken total 234 credits.\n",
      "Roll No: 888886 has CPI: 8.276 and has taken total 207 credits.\n",
      "Roll No: 608522 has CPI: 8.784 and has taken total 159 credits.\n",
      "Roll No: 362471 has CPI: 8.111 and has taken total 214 credits.\n",
      "Roll No: 465496 has CPI: 8.354 and has taken total 168 credits.\n",
      "Roll No: 208100 has CPI: 8.731 and has taken total 182 credits.\n",
      "Roll No: 138296 has CPI: 7.991 and has taken total 200 credits.\n",
      "Roll No: 775967 has CPI: 8.778 and has taken total 197 credits.\n",
      "Roll No: 692318 has CPI: 8.088 and has taken total 216 credits.\n",
      "Roll No: 461584 has CPI: 8.476 and has taken total 234 credits.\n",
      "Roll No: 626000 has CPI: 8.319 and has taken total 210 credits.\n",
      "Roll No: 458200 has CPI: 8.721 and has taken total 190 credits.\n",
      "Roll No: 581065 has CPI: 8.070 and has taken total 196 credits.\n",
      "Roll No: 787967 has CPI: 8.767 and has taken total 192 credits.\n",
      "Roll No: 381227 has CPI: 8.043 and has taken total 179 credits.\n",
      "Roll No: 750259 has CPI: 8.315 and has taken total 209 credits.\n",
      "Roll No: 881983 has CPI: 8.204 and has taken total 169 credits.\n",
      "Roll No: 294697 has CPI: 8.491 and has taken total 269 credits.\n",
      "Roll No: 816041 has CPI: 7.789 and has taken total 158 credits.\n",
      "Roll No: 993835 has CPI: 8.424 and has taken total 175 credits.\n"
     ]
    }
   ],
   "source": [
    "class Student:\n",
    "    def __init__(self,l):\n",
    "        self.courses={'core':[],'d_elective':[],'f_elective':[],'h_elective':[],'honours':[],'alc':[],'minor':[]}\n",
    "        self.courses_credits={'core':0,'d_elective':0,'f_elective':0,'h_elective':0,'honours':0,'alc':0,'minor':0}\n",
    "        self.weighted_sum={'core':0,'d_elective':0,'f_elective':0,'h_elective':0,'honours':0,'alc':0,'minor':0}\n",
    "        grade={'AP\\n':10,'AA\\n':10,'AB\\n':9,'BB\\n':8,'BC\\n':7,'CC\\n':6}\n",
    "        \n",
    "        for i in l:\n",
    "            i[0]=int(i[0])\n",
    "            if i[2]=='core':\n",
    "                self.courses['core'].append(i)\n",
    "                self.courses_credits['core']+=i[0]\n",
    "                self.weighted_sum['core']+=i[0]*grade[i[3]]\n",
    "            \n",
    "            elif i[2]=='department_elective':\n",
    "                self.courses['d_elective'].append(i)\n",
    "                self.courses_credits['d_elective']+=i[0]\n",
    "                self.weighted_sum['d_elective']+=i[0]*grade[i[3]]\n",
    "            \n",
    "            elif i[2]=='flexible_elective':\n",
    "                self.courses['f_elective'].append(i)\n",
    "                self.courses_credits['f_elective']+=i[0]\n",
    "                self.weighted_sum['f_elective']+=i[0]*grade[i[3]]\n",
    "            \n",
    "            elif i[2]=='hasmed_elective':\n",
    "                self.courses['h_elective'].append(i)\n",
    "                self.courses_credits['h_elective']+=i[0]\n",
    "                self.weighted_sum['h_elective']+=i[0]*grade[i[3]]\n",
    "                \n",
    "            elif i[2]=='honours':\n",
    "                self.courses['honours'].append(i)\n",
    "                self.courses_credits['honours']+=i[0]\n",
    "                self.weighted_sum['honours']+=i[0]*grade[i[3]]\n",
    "            elif i[2]=='alc':\n",
    "                self.courses['alc'].append(i)\n",
    "                self.courses_credits['alc']+=i[0]\n",
    "                self.weighted_sum['alc']+=i[0]*grade[i[3]] \n",
    "            elif i[2]=='minor':\n",
    "                self.courses['minor'].append(i)\n",
    "                self.courses_credits['minor']+=i[0]\n",
    "                self.weighted_sum['minor']+=i[0]*grade[i[3]] \n",
    "\n",
    "        self.total_creds=self.courses_credits['core']+self.courses_credits['d_elective']+self.courses_credits['f_elective']+self.courses_credits['h_elective'] +self.courses_credits['honours']+self.courses_credits['alc']+self.courses_credits['minor']\n",
    "        self.cpi=self.calc_cpi()  \n",
    "    \n",
    "    def calc_cpi(self):\n",
    "        cpi=(self.weighted_sum['core']+self.weighted_sum['d_elective']+self.weighted_sum['f_elective']+self.weighted_sum['h_elective'])/(self.courses_credits['core']+self.courses_credits['d_elective']+self.courses_credits['f_elective']+self.courses_credits['h_elective'])\n",
    "        return cpi\n",
    "\n",
    "\n",
    "    def __str__(self):\n",
    "        return f\"Courses: {self.courses}\"\n",
    "\n",
    "    pass\n",
    "\n",
    "\n",
    "with open(\"student_records.csv\",\"r\") as f:\n",
    "    data=f.readlines()\n",
    "    for i in range(len(data)):\n",
    "        data[i]=data[i].split(\",\")\n",
    "\n",
    "uni_roll={}\n",
    "\n",
    "for i in data[1:]:\n",
    "    if i[0] not in list(uni_roll.keys()):\n",
    "        uni_roll[i[0]]=[]\n",
    "        uni_roll[i[0]].append(i[2:])\n",
    "    else:\n",
    "        uni_roll[i[0]].append(i[2:])\n",
    "\n",
    "print(len(list(uni_roll.keys()))) #number of students\n",
    "\n",
    "for i in list(uni_roll.keys()):\n",
    "    uni_roll[i]=Student(uni_roll[i])\n",
    "\n",
    "for i in list(uni_roll.keys()):\n",
    "    print(f\"Roll No: {i} has CPI: {'%.3f'%(uni_roll[i].cpi)} and has taken total {uni_roll[i].total_creds} credits.\") \n",
    "\n"
   ]
  },
  {
   "cell_type": "markdown",
   "metadata": {},
   "source": [
    "#### 2.c: Print out the roll numbers of all students who meet the graduation requirements \n",
    "Atleast 20 credist of core course, 15 credits of department elective, 10 credits of flexible elective and 5 credits of hasmed electives"
   ]
  },
  {
   "cell_type": "code",
   "execution_count": null,
   "metadata": {},
   "outputs": [
    {
     "name": "stdout",
     "output_type": "stream",
     "text": [
      "Roll No: 588946 meets the graduation requirements.\n",
      "Roll No: 834515 meets the graduation requirements.\n",
      "Roll No: 781075 meets the graduation requirements.\n",
      "Roll No: 180828 meets the graduation requirements.\n",
      "Roll No: 981238 meets the graduation requirements.\n",
      "Roll No: 836881 meets the graduation requirements.\n",
      "Roll No: 310604 meets the graduation requirements.\n",
      "Roll No: 773982 meets the graduation requirements.\n",
      "Roll No: 500658 meets the graduation requirements.\n",
      "Roll No: 810863 meets the graduation requirements.\n",
      "Roll No: 124663 meets the graduation requirements.\n",
      "Roll No: 871746 meets the graduation requirements.\n",
      "Roll No: 986057 meets the graduation requirements.\n",
      "Roll No: 379479 meets the graduation requirements.\n",
      "Roll No: 144528 meets the graduation requirements.\n",
      "Roll No: 485484 meets the graduation requirements.\n",
      "Roll No: 845623 meets the graduation requirements.\n",
      "Roll No: 150503 meets the graduation requirements.\n",
      "Roll No: 214270 meets the graduation requirements.\n",
      "Roll No: 517837 meets the graduation requirements.\n",
      "Roll No: 482623 meets the graduation requirements.\n",
      "Roll No: 721490 meets the graduation requirements.\n",
      "Roll No: 955757 meets the graduation requirements.\n",
      "Roll No: 143856 meets the graduation requirements.\n",
      "Roll No: 571782 meets the graduation requirements.\n",
      "Roll No: 973158 meets the graduation requirements.\n",
      "Roll No: 703403 meets the graduation requirements.\n",
      "Roll No: 960395 meets the graduation requirements.\n",
      "Roll No: 521087 meets the graduation requirements.\n",
      "Roll No: 461971 meets the graduation requirements.\n",
      "Roll No: 879634 meets the graduation requirements.\n",
      "Roll No: 716985 meets the graduation requirements.\n",
      "Roll No: 265922 meets the graduation requirements.\n",
      "Roll No: 283796 meets the graduation requirements.\n",
      "Roll No: 203200 meets the graduation requirements.\n",
      "Roll No: 327122 meets the graduation requirements.\n",
      "Roll No: 534763 meets the graduation requirements.\n",
      "Roll No: 391848 meets the graduation requirements.\n",
      "Roll No: 971123 meets the graduation requirements.\n",
      "Roll No: 207443 meets the graduation requirements.\n",
      "Roll No: 488661 meets the graduation requirements.\n",
      "Roll No: 782129 meets the graduation requirements.\n",
      "Roll No: 928288 meets the graduation requirements.\n",
      "Roll No: 581858 meets the graduation requirements.\n",
      "Roll No: 282482 meets the graduation requirements.\n",
      "Roll No: 572815 meets the graduation requirements.\n",
      "Roll No: 608952 meets the graduation requirements.\n",
      "Roll No: 628849 meets the graduation requirements.\n",
      "Roll No: 630568 meets the graduation requirements.\n",
      "Roll No: 388969 meets the graduation requirements.\n",
      "Roll No: 159438 meets the graduation requirements.\n",
      "Roll No: 970791 meets the graduation requirements.\n",
      "Roll No: 143142 meets the graduation requirements.\n",
      "Roll No: 998293 meets the graduation requirements.\n",
      "Roll No: 681499 meets the graduation requirements.\n",
      "Roll No: 888886 meets the graduation requirements.\n",
      "Roll No: 608522 meets the graduation requirements.\n",
      "Roll No: 362471 meets the graduation requirements.\n",
      "Roll No: 692318 meets the graduation requirements.\n",
      "Roll No: 626000 meets the graduation requirements.\n",
      "Roll No: 581065 meets the graduation requirements.\n",
      "Roll No: 787967 meets the graduation requirements.\n",
      "Roll No: 381227 meets the graduation requirements.\n",
      "Roll No: 750259 meets the graduation requirements.\n",
      "Roll No: 881983 meets the graduation requirements.\n",
      "Roll No: 294697 meets the graduation requirements.\n",
      "66\n"
     ]
    }
   ],
   "source": [
    "n=0\n",
    "for i in list(uni_roll.keys()):\n",
    "\n",
    "    if uni_roll[i].courses_credits['core']>=20 and uni_roll[i].courses_credits['d_elective']>=15 and uni_roll[i].courses_credits['f_elective']>=10 and uni_roll[i].courses_credits['h_elective']>=5:\n",
    "        print(f\"Roll No: {i} meets the graduation requirements.\")\n",
    "        n+=1\n",
    "\n",
    "print(n) #number of students who meet the graduation requirements\n"
   ]
  },
  {
   "cell_type": "markdown",
   "metadata": {},
   "source": [
    "#### 2.d: Print out the roll numbers of all students who completed a minor \n",
    "Atleast 10 credits with minor tag in a specific department"
   ]
  },
  {
   "cell_type": "code",
   "execution_count": 16,
   "metadata": {},
   "outputs": [
    {
     "name": "stdout",
     "output_type": "stream",
     "text": [
      "Roll No: 588946 completed minor.\n",
      "Roll No: 145372 completed minor.\n",
      "Roll No: 834515 completed minor.\n",
      "Roll No: 344265 completed minor.\n",
      "Roll No: 358405 completed minor.\n",
      "Roll No: 781075 completed minor.\n",
      "Roll No: 180828 completed minor.\n",
      "Roll No: 981238 completed minor.\n",
      "Roll No: 836881 completed minor.\n",
      "Roll No: 847809 completed minor.\n",
      "Roll No: 773982 completed minor.\n",
      "Roll No: 500658 completed minor.\n",
      "Roll No: 810863 completed minor.\n",
      "Roll No: 124663 completed minor.\n",
      "Roll No: 364146 completed minor.\n",
      "Roll No: 871746 completed minor.\n",
      "Roll No: 270007 completed minor.\n",
      "Roll No: 597353 completed minor.\n",
      "Roll No: 986057 completed minor.\n",
      "Roll No: 718510 completed minor.\n",
      "Roll No: 836431 completed minor.\n",
      "Roll No: 379479 completed minor.\n",
      "Roll No: 582912 completed minor.\n",
      "Roll No: 788020 completed minor.\n",
      "Roll No: 613401 completed minor.\n",
      "Roll No: 144528 completed minor.\n",
      "Roll No: 485484 completed minor.\n",
      "Roll No: 680096 completed minor.\n",
      "Roll No: 199713 completed minor.\n",
      "Roll No: 851029 completed minor.\n",
      "Roll No: 845623 completed minor.\n",
      "Roll No: 150503 completed minor.\n",
      "Roll No: 214270 completed minor.\n",
      "Roll No: 517837 completed minor.\n",
      "Roll No: 482623 completed minor.\n",
      "Roll No: 721490 completed minor.\n",
      "Roll No: 955757 completed minor.\n",
      "Roll No: 143856 completed minor.\n",
      "Roll No: 571782 completed minor.\n",
      "Roll No: 973158 completed minor.\n",
      "Roll No: 703403 completed minor.\n",
      "Roll No: 960395 completed minor.\n",
      "Roll No: 521087 completed minor.\n",
      "Roll No: 461971 completed minor.\n",
      "Roll No: 879634 completed minor.\n",
      "Roll No: 716985 completed minor.\n",
      "Roll No: 194063 completed minor.\n",
      "Roll No: 265922 completed minor.\n",
      "Roll No: 283796 completed minor.\n",
      "Roll No: 203200 completed minor.\n",
      "Roll No: 301135 completed minor.\n",
      "Roll No: 327122 completed minor.\n",
      "Roll No: 381526 completed minor.\n",
      "Roll No: 534763 completed minor.\n",
      "Roll No: 391848 completed minor.\n",
      "Roll No: 329535 completed minor.\n",
      "Roll No: 971123 completed minor.\n",
      "Roll No: 207443 completed minor.\n",
      "Roll No: 488661 completed minor.\n",
      "Roll No: 782129 completed minor.\n",
      "Roll No: 581858 completed minor.\n",
      "Roll No: 733782 completed minor.\n",
      "Roll No: 282482 completed minor.\n",
      "Roll No: 572815 completed minor.\n",
      "Roll No: 608952 completed minor.\n",
      "Roll No: 628849 completed minor.\n",
      "Roll No: 630568 completed minor.\n",
      "Roll No: 388969 completed minor.\n",
      "Roll No: 159438 completed minor.\n",
      "Roll No: 478606 completed minor.\n",
      "Roll No: 995208 completed minor.\n",
      "Roll No: 841365 completed minor.\n",
      "Roll No: 970791 completed minor.\n",
      "Roll No: 143142 completed minor.\n",
      "Roll No: 998293 completed minor.\n",
      "Roll No: 907454 completed minor.\n",
      "Roll No: 681499 completed minor.\n",
      "Roll No: 888886 completed minor.\n",
      "Roll No: 608522 completed minor.\n",
      "Roll No: 362471 completed minor.\n",
      "Roll No: 465496 completed minor.\n",
      "Roll No: 208100 completed minor.\n",
      "Roll No: 138296 completed minor.\n",
      "Roll No: 775967 completed minor.\n",
      "Roll No: 692318 completed minor.\n",
      "Roll No: 461584 completed minor.\n",
      "Roll No: 626000 completed minor.\n",
      "Roll No: 458200 completed minor.\n",
      "Roll No: 581065 completed minor.\n",
      "Roll No: 787967 completed minor.\n",
      "Roll No: 381227 completed minor.\n",
      "Roll No: 750259 completed minor.\n",
      "Roll No: 881983 completed minor.\n",
      "Roll No: 294697 completed minor.\n",
      "Roll No: 816041 completed minor.\n",
      "Roll No: 993835 completed minor.\n"
     ]
    }
   ],
   "source": [
    "for i in list(uni_roll.keys()):\n",
    "\n",
    "    if uni_roll[i].courses_credits['minor']>=10:\n",
    "        print(f\"Roll No: {i} completed minor.\")\n",
    "        "
   ]
  },
  {
   "cell_type": "markdown",
   "metadata": {},
   "source": [
    "#### 2.e: Print out the roll numbers of all students who completed a honours\n",
    "Atleast 10 credits with honours tag and 20 core credits"
   ]
  },
  {
   "cell_type": "code",
   "execution_count": 10,
   "metadata": {},
   "outputs": [
    {
     "name": "stdout",
     "output_type": "stream",
     "text": [
      "Roll No: 588946 completed honours.\n",
      "Roll No: 145372 completed honours.\n",
      "Roll No: 834515 completed honours.\n",
      "Roll No: 781075 completed honours.\n",
      "Roll No: 836881 completed honours.\n",
      "Roll No: 310604 completed honours.\n",
      "Roll No: 773982 completed honours.\n",
      "Roll No: 500658 completed honours.\n",
      "Roll No: 810863 completed honours.\n",
      "Roll No: 124663 completed honours.\n",
      "Roll No: 364146 completed honours.\n",
      "Roll No: 871746 completed honours.\n",
      "Roll No: 986057 completed honours.\n",
      "Roll No: 718510 completed honours.\n",
      "Roll No: 379479 completed honours.\n",
      "Roll No: 582912 completed honours.\n",
      "Roll No: 788020 completed honours.\n",
      "Roll No: 613401 completed honours.\n",
      "Roll No: 144528 completed honours.\n",
      "Roll No: 485484 completed honours.\n",
      "Roll No: 199713 completed honours.\n",
      "Roll No: 845623 completed honours.\n",
      "Roll No: 150503 completed honours.\n",
      "Roll No: 214270 completed honours.\n",
      "Roll No: 517837 completed honours.\n",
      "Roll No: 482623 completed honours.\n",
      "Roll No: 721490 completed honours.\n",
      "Roll No: 955757 completed honours.\n",
      "Roll No: 589528 completed honours.\n",
      "Roll No: 143856 completed honours.\n",
      "Roll No: 571782 completed honours.\n",
      "Roll No: 973158 completed honours.\n",
      "Roll No: 703403 completed honours.\n",
      "Roll No: 960395 completed honours.\n",
      "Roll No: 521087 completed honours.\n",
      "Roll No: 461971 completed honours.\n",
      "Roll No: 879634 completed honours.\n",
      "Roll No: 716985 completed honours.\n",
      "Roll No: 265922 completed honours.\n",
      "Roll No: 283796 completed honours.\n",
      "Roll No: 203200 completed honours.\n",
      "Roll No: 327122 completed honours.\n",
      "Roll No: 534763 completed honours.\n",
      "Roll No: 391848 completed honours.\n",
      "Roll No: 971123 completed honours.\n",
      "Roll No: 207443 completed honours.\n",
      "Roll No: 488661 completed honours.\n",
      "Roll No: 782129 completed honours.\n",
      "Roll No: 928288 completed honours.\n",
      "Roll No: 581858 completed honours.\n",
      "Roll No: 282482 completed honours.\n",
      "Roll No: 572815 completed honours.\n",
      "Roll No: 608952 completed honours.\n",
      "Roll No: 628849 completed honours.\n",
      "Roll No: 630568 completed honours.\n",
      "Roll No: 388969 completed honours.\n",
      "Roll No: 159438 completed honours.\n",
      "Roll No: 870642 completed honours.\n",
      "Roll No: 970791 completed honours.\n",
      "Roll No: 143142 completed honours.\n",
      "Roll No: 998293 completed honours.\n",
      "Roll No: 681499 completed honours.\n",
      "Roll No: 888886 completed honours.\n",
      "Roll No: 608522 completed honours.\n",
      "Roll No: 362471 completed honours.\n",
      "Roll No: 465496 completed honours.\n",
      "Roll No: 208100 completed honours.\n",
      "Roll No: 692318 completed honours.\n",
      "Roll No: 626000 completed honours.\n",
      "Roll No: 458200 completed honours.\n",
      "Roll No: 581065 completed honours.\n",
      "Roll No: 787967 completed honours.\n",
      "Roll No: 750259 completed honours.\n",
      "Roll No: 881983 completed honours.\n",
      "Roll No: 294697 completed honours.\n",
      "75\n"
     ]
    }
   ],
   "source": [
    "n=0\n",
    "for i in list(uni_roll.keys()):\n",
    "\n",
    "    if uni_roll[i].courses_credits['core']>=20  and uni_roll[i].courses_credits['honours']>=10:\n",
    "        print(f\"Roll No: {i} completed honours.\")\n",
    "        n+=1\n",
    "\n",
    "print(n) #number of students who completed honours"
   ]
  },
  {
   "cell_type": "markdown",
   "metadata": {},
   "source": [
    "# **SciPy** "
   ]
  },
  {
   "cell_type": "markdown",
   "metadata": {},
   "source": [
    "## Part A\n",
    "Minimize the function $f(x, y) = 2(x - y - 3)^2 + 4(x + 2y + 1)^4$.<br>\n",
    "With the constraints : $ x - y \\ge -3, (x + 2)^2 + (y + 1)^2 \\le 5$ <br>\n",
    "Using scipy.optimize.minimize with constraints. (Hint: Look at the examples in the official documentation)"
   ]
  },
  {
   "cell_type": "code",
   "execution_count": 13,
   "metadata": {},
   "outputs": [
    {
     "name": "stdout",
     "output_type": "stream",
     "text": [
      "Defaulting to user installation because normal site-packages is not writeable\n",
      "Requirement already satisfied: scipy in /Users/abhay/Library/Python/3.11/lib/python/site-packages (1.14.1)\n",
      "Requirement already satisfied: numpy<2.3,>=1.23.5 in /Library/Frameworks/Python.framework/Versions/3.11/lib/python3.11/site-packages (from scipy) (1.26.4)\n",
      "\n",
      "\u001b[1m[\u001b[0m\u001b[34;49mnotice\u001b[0m\u001b[1;39;49m]\u001b[0m\u001b[39;49m A new release of pip is available: \u001b[0m\u001b[31;49m23.2.1\u001b[0m\u001b[39;49m -> \u001b[0m\u001b[32;49m24.3.1\u001b[0m\n",
      "\u001b[1m[\u001b[0m\u001b[34;49mnotice\u001b[0m\u001b[1;39;49m]\u001b[0m\u001b[39;49m To update, run: \u001b[0m\u001b[32;49mpip3 install --upgrade pip\u001b[0m\n",
      "Note: you may need to restart the kernel to use updated packages.\n"
     ]
    }
   ],
   "source": [
    "\n",
    "%pip install scipy\n"
   ]
  },
  {
   "cell_type": "code",
   "execution_count": 14,
   "metadata": {},
   "outputs": [
    {
     "name": "stdout",
     "output_type": "stream",
     "text": [
      "Optimal value: 7.345026216977713\n",
      "Optimal point: [ 0.23492503 -0.92851488]\n"
     ]
    }
   ],
   "source": [
    "import scipy\n",
    "from scipy.optimize import minimize\n",
    "# Define the function to minimize\n",
    "def func(x):\n",
    "    return 2 * (x[0] - x[1] - 3)**2 + 4 * (x[0] + 2 * x[1] + 1)**4\n",
    "\n",
    "# Define the constraints\n",
    "cons = ({'type': 'ineq', 'fun': lambda x: x[0] - x[1] + 3},\n",
    "        {'type': 'ineq', 'fun': lambda x: 5 - ((x[0] + 2)**2 + (x[1] + 1)**2)})\n",
    "\n",
    "# Initial guess\n",
    "x0 = [0, 0]\n",
    "\n",
    "# Perform the minimization\n",
    "result = minimize(func, x0, constraints=cons)\n",
    "\n",
    "print(\"Optimal value:\", result.fun)\n",
    "print(\"Optimal point:\", result.x)"
   ]
  },
  {
   "cell_type": "markdown",
   "metadata": {},
   "source": [
    "# Part B\n",
    "Evaluate the line integral of the function $f(x, y) = x^2 + y^4$ along the circle $ x^2 + y^2 = 3 $ anticlockwise (scalar integral, not vector). You must use scipy for integration but you may use parameterization"
   ]
  },
  {
   "cell_type": "code",
   "execution_count": null,
   "metadata": {},
   "outputs": [
    {
     "name": "stdout",
     "output_type": "stream",
     "text": [
      "Line integral = 53.053631\n",
      "Error estimate = 5.376844e-09\n"
     ]
    }
   ],
   "source": [
    "import numpy as np\n",
    "from scipy import integrate\n",
    "\n",
    "def integrand(t):\n",
    "    # Parameterization \n",
    "    x = np.sqrt(3) * np.cos(t)\n",
    "    y = np.sqrt(3) * np.sin(t)\n",
    "    \n",
    "    # Function f(x,y) = x^2 + y^4\n",
    "    f = x**2 + y**4\n",
    "    \n",
    "    # ds/dt = √((dx/dt)^2 + (dy/dt)^2)\n",
    "    dx_dt = -np.sqrt(3) * np.sin(t)\n",
    "    dy_dt = np.sqrt(3) * np.cos(t)\n",
    "    ds_dt = np.sqrt(dx_dt**2 + dy_dt**2)\n",
    "    \n",
    "    return f * ds_dt\n",
    "\n",
    "# Integrate from 0 to 2π for full circle\n",
    "result, error = integrate.quad(integrand, 0, 2*np.pi)\n",
    "\n",
    "print(f\"Line integral = {result:.6f}\")\n",
    "print(f\"Error estimate = {error:.6e}\")"
   ]
  },
  {
   "cell_type": "markdown",
   "metadata": {},
   "source": [
    "# **Numpy**"
   ]
  },
  {
   "cell_type": "markdown",
   "metadata": {},
   "source": [
    "### Read Lisan_Al_Gaib.pdf for problem description and complete the following functions"
   ]
  },
  {
   "cell_type": "code",
   "execution_count": null,
   "metadata": {},
   "outputs": [],
   "source": [
    "import time # to time the execution\n",
    "import numpy as np\n",
    "import matplotlib.pyplot as plt\n",
    "\n"
   ]
  },
  {
   "cell_type": "code",
   "execution_count": 19,
   "metadata": {},
   "outputs": [],
   "source": [
    "### TODO 1\n",
    "### Load data from data_path\n",
    "### Check the input file spice_locations.txt to understand the Data Format\n",
    "### Return : np array of size Nx2\n",
    "def load_data(path):\n",
    "    return np.loadtxt(path, delimiter=',')"
   ]
  },
  {
   "cell_type": "code",
   "execution_count": 20,
   "metadata": {},
   "outputs": [],
   "source": [
    "### TODO 2.1\n",
    "### If init_centers is None, initialize the centers by selecting K data points at random without replacement\n",
    "### Else, use the centers provided in init_centers\n",
    "### Return : np array of size Kx2\n",
    "def initialise_centers(data, K, init_centers=None):\n",
    "    if init_centers is None:\n",
    "        #Get the total number of rows in the dataset\n",
    "        total_rows = data.shape[0]\n",
    "         # Create an array of all row indices\n",
    "        row_indices = np.arange(total_rows)\n",
    "\n",
    "        # Randomly select K unique indices from the array of row indices\n",
    "        random_indices = np.random.choice(row_indices, size=K, replace=False)\n",
    " \n",
    "        return data[random_indices]\n",
    "   \n",
    "    return init_centers"
   ]
  },
  {
   "cell_type": "code",
   "execution_count": 21,
   "metadata": {},
   "outputs": [],
   "source": [
    "### TODO 2.2\n",
    "### Initialize the labels to all ones to size (N,) where N is the number of data points\n",
    "### Return : np array of size N\n",
    "def initialise_labels(data):\n",
    "    return np.ones(data.shape[0])"
   ]
  },
  {
   "cell_type": "code",
   "execution_count": 22,
   "metadata": {},
   "outputs": [],
   "source": [
    "### TODO 3.1 : E step\n",
    "### For Each data point, find the distance to each center\n",
    "### Return : np array of size NxK\n",
    "def calculate_distances(data, centers):\n",
    "    return np. linalg.norm(data[:, np.newaxis] - centers, axis=2)"
   ]
  },
  {
   "cell_type": "code",
   "execution_count": 23,
   "metadata": {},
   "outputs": [],
   "source": [
    "### TODO 3.2 : E step\n",
    "### For Each data point, assign the label of the nearest center\n",
    "### Return : np array of size N\n",
    "def update_labels(distances):\n",
    "    return distances.argmin(axis=-1)"
   ]
  },
  {
   "cell_type": "code",
   "execution_count": 26,
   "metadata": {},
   "outputs": [],
   "source": [
    "### TODO 4 : M step\n",
    "### Update the centers to the mean of the data points assigned to it\n",
    "### Return : np array of size Kx2\n",
    "def update_centers(data, labels, K):\n",
    "    # stores the sum of the data points assigned to each center\n",
    "    sums = np.zeros((K, 2))\n",
    "    np.add.at(sums, labels, data)\n",
    "    # return the mean of the data points assigned to each center\n",
    "    return sums / np.bincount(labels).reshape(K, -1)\n"
   ]
  },
  {
   "cell_type": "code",
   "execution_count": 25,
   "metadata": {},
   "outputs": [],
   "source": [
    "### TODO 6 : Check convergence\n",
    "### Check if the labels have changed from the previous iteration\n",
    "### Return : True / False\n",
    "def check_termination(labels1, labels2):\n",
    "    # Terminates if the labels are the same for two consecutive iterations\n",
    "    return np.all(labels1 == labels2)"
   ]
  },
  {
   "cell_type": "code",
   "execution_count": 27,
   "metadata": {},
   "outputs": [],
   "source": [
    "### DON'T CHANGE ANYTHING IN THE FOLLOWING FUNCTION\n",
    "def kmeans(data_path:str, K:int, init_centers):\n",
    "    '''\n",
    "    Input :\n",
    "        data (type str): path to the file containing the data\n",
    "        K (type int): number of clusters\n",
    "        init_centers (type numpy.ndarray): initial centers. shape = (K, 2) or None\n",
    "    Output :\n",
    "        centers (type numpy.ndarray): final centers. shape = (K, 2)\n",
    "        labels (type numpy.ndarray): label of each data point. shape = (N,)\n",
    "        time (type float): time taken by the algorithm to converge in seconds\n",
    "    N is the number of data points each of shape (2,)\n",
    "    '''\n",
    "    data = load_data(data_path)    \n",
    "    centers = initialise_centers(data, K, init_centers)\n",
    "    labels = initialise_labels(data)\n",
    "\n",
    "    start_time = time.time() # Time stamp \n",
    "\n",
    "    while True:\n",
    "        distances = calculate_distances(data, centers)\n",
    "        labels_new = update_labels(distances)\n",
    "        centers = update_centers(data, labels_new, K)\n",
    "        if check_termination(labels, labels_new): break\n",
    "        else: labels = labels_new\n",
    " \n",
    "    end_time = time.time() # Time stamp after the algorithm ends\n",
    "    return centers, labels, end_time - start_time "
   ]
  },
  {
   "cell_type": "code",
   "execution_count": 28,
   "metadata": {},
   "outputs": [],
   "source": [
    "### TODO 7\n",
    "def visualise(data_path, labels, centers):\n",
    "    data = load_data(data_path)\n",
    "\n",
    "    # Scatter plot of the data points\n",
    "    plt.scatter(data[:, 0], data[:, 1], c=labels, s=50, cmap='viridis')\n",
    "    plt.scatter(centers[:, 0], centers[:, 1], c='black', s=200, alpha=0.5)\n",
    "\n",
    "    ### Set title as 'K-means clustering'\n",
    "    plt.title('K-means clustering')\n",
    "\n",
    "    ### Set xlabel as 'Longitude'\n",
    "    plt.xlabel('Longitude')\n",
    "\n",
    "    ### Set ylabel as 'Latitude'\n",
    "    plt.ylabel('Latitude')\n",
    "\n",
    "    ### Save the plot as 'kmeans.png'\n",
    "    plt.savefig('kmeans.png')\n",
    "\n",
    "\n",
    "    ## DO NOT CHANGE THE FOLLOWING LINE\n",
    "    return plt"
   ]
  },
  {
   "cell_type": "code",
   "execution_count": 29,
   "metadata": {},
   "outputs": [
    {
     "name": "stdout",
     "output_type": "stream",
     "text": [
      "Time taken for the algorithm to converge: 0.0023310184478759766\n"
     ]
    },
    {
     "data": {
      "text/plain": [
       "<module 'matplotlib.pyplot' from '/Users/abhay/Library/Python/3.11/lib/python/site-packages/matplotlib/pyplot.py'>"
      ]
     },
     "execution_count": 29,
     "metadata": {},
     "output_type": "execute_result"
    },
    {
     "data": {
      "image/png": "[encoded data removed]",
      "text/plain": [
       "<Figure size 640x480 with 1 Axes>"
      ]
     },
     "metadata": {},
     "output_type": "display_data"
    }
   ],
   "source": [
    "### After you have completed the above functions, run the following code to generate the plot\n",
    "data_path = 'spice_locations.txt'\n",
    "K, init_centers = 2, None\n",
    "centers, labels, time_taken = kmeans(data_path, K, init_centers)\n",
    "print('Time taken for the algorithm to converge:', time_taken)\n",
    "visualise(data_path, labels, centers)"
   ]
  }
 ],
 "metadata": {
  "kernelspec": {
   "display_name": "Python 3",
   "language": "python",
   "name": "python3"
  },
  "language_info": {
   "codemirror_mode": {
    "name": "ipython",
    "version": 3
   },
   "file_extension": ".py",
   "mimetype": "text/x-python",
   "name": "python",
   "nbconvert_exporter": "python",
   "pygments_lexer": "ipython3",
   "version": "3.11.7"
  }
 },
 "nbformat": 4,
 "nbformat_minor": 2
}
